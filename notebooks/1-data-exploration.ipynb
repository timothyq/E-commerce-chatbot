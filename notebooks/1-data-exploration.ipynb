{
 "cells": [
  {
   "cell_type": "code",
   "id": "1aa015088246adda",
   "metadata": {
    "ExecuteTime": {
     "end_time": "2025-06-22T07:08:56.737266Z",
     "start_time": "2025-06-22T07:08:56.732479Z"
    }
   },
   "source": [
    "import sys\n",
    "\n",
    "# This will print the exact path to the Python executable that is running this notebook's code.\n",
    "print(sys.executable)"
   ],
   "outputs": [
    {
     "name": "stdout",
     "output_type": "stream",
     "text": [
      "/Users/qyxmacmini/Documents/GitHub/e-commerce-chatbot/.venv/bin/python\n"
     ]
    }
   ],
   "execution_count": 1
  },
  {
   "cell_type": "code",
   "id": "7bd55e70a9077fbf",
   "metadata": {
    "ExecuteTime": {
     "end_time": "2025-06-22T07:08:56.865969Z",
     "start_time": "2025-06-22T07:08:56.859146Z"
    }
   },
   "source": [
    "import os\n",
    "from dotenv import load_dotenv\n",
    "from pathlib import Path\n",
    "\n",
    "# --- Load Project-Specific Environment Variables ---\n",
    "# This is the key step: It searches for a .env file and loads it.\n",
    "# It's smart enough to search up from the current directory to find it.\n",
    "load_dotenv()\n",
    "\n",
    "# You can now verify that the environment variable is set for this session\n",
    "hf_home = os.getenv(\"HF_HOME\")\n",
    "print(f\"Hugging Face cache is set to: {hf_home}\")\n",
    "\n",
    "# ... rest of your notebook"
   ],
   "outputs": [
    {
     "name": "stdout",
     "output_type": "stream",
     "text": [
      "Hugging Face cache is set to: /Volumes/ExtremeSSD/workingspace/ChatBotAmazon/data\n"
     ]
    }
   ],
   "execution_count": 2
  },
  {
   "cell_type": "code",
   "id": "8fdfdf858cd468e9",
   "metadata": {
    "ExecuteTime": {
     "end_time": "2025-06-22T07:16:33.506517Z",
     "start_time": "2025-06-22T07:08:59.218420Z"
    }
   },
   "source": [
    "import pandas as pd\n",
    "from datasets import load_dataset\n",
    "\n",
    "# --- Load Metadata (from your original code) ---\n",
    "# This loads from the cache after the first run\n",
    "dataset_meta = load_dataset(\"McAuley-Lab/Amazon-Reviews-2023\", \"raw_meta_Electronics\", trust_remote_code=True)\n",
    "meta_df = pd.DataFrame(dataset_meta['full'])\n",
    "\n",
    "\n",
    "# --- Load Reviews (without streaming) ---\n",
    "# This will download the dataset once and cache it for future use.\n",
    "# Subsequent runs will be much faster.\n",
    "print(\"Loading reviews dataset. This may take a while on the first run...\")\n",
    "dataset_reviews = load_dataset(\"McAuley-Lab/Amazon-Reviews-2023\", \"raw_review_Electronics\", trust_remote_code=True)\n",
    "\n",
    "# Take a sample of 1000 reviews to work with\n",
    "reviews_sample = dataset_reviews['full'].shuffle(seed=42).select(range(1000))\n",
    "reviews_df = pd.DataFrame(reviews_sample)\n",
    "\n",
    "print(\"Metadata and a sample of reviews have been loaded into DataFrames.\")\n",
    "reviews_df.head()\n",
    "\n",
    "# You can run this cell multiple times without any downloading.\n",
    "# It uses the 'reviews_df' DataFrame we already loaded in memory.\n",
    "\n",
    "print(\"Inspecting raw 'description' text from the pre-loaded DataFrame:\")\n",
    "for i, desc in enumerate(reviews_df['text'].dropna().sample(3, random_state=42)):\n",
    "    print(f\"--- Sample {i+1} ---\")\n",
    "    print(desc)\n",
    "    print(\"\\\\n\")"
   ],
   "outputs": [
    {
     "name": "stdout",
     "output_type": "stream",
     "text": [
      "Loading reviews dataset. This may take a while on the first run...\n"
     ]
    },
    {
     "data": {
      "text/plain": [
       "Loading dataset shards:   0%|          | 0/34 [00:00<?, ?it/s]"
      ],
      "application/vnd.jupyter.widget-view+json": {
       "version_major": 2,
       "version_minor": 0,
       "model_id": "795e2330784c4a3ca99607343a0ac6c9"
      }
     },
     "metadata": {},
     "output_type": "display_data"
    },
    {
     "name": "stdout",
     "output_type": "stream",
     "text": [
      "Metadata and a sample of reviews have been loaded into DataFrames.\n",
      "Inspecting raw 'description' text from the pre-loaded DataFrame:\n",
      "--- Sample 1 ---\n",
      "Great product\n",
      "\\n\n",
      "--- Sample 2 ---\n",
      "Liked\n",
      "\\n\n",
      "--- Sample 3 ---\n",
      "Slim enough  for it not the be bulky, and the rugged appearance I really like. The carabiner is a nice touch.<br />Looks, definitely, not so sure about the texture... I think it's more of a personal thing, but it is rougher than I thought; guess I expected something more like a pebble... it feels more like sandpaper. It's growing on me, fortunately, and maybe it will wear down?<br />Also, I like I don't need adhesive, but the fit and the the the little flexibility of the case make it a bit daring to try to take it off... I thought I would rip the top of the charge case. So put it on, and leave it there unless you really need to.\n",
      "\\n\n"
     ]
    }
   ],
   "execution_count": 3
  },
  {
   "metadata": {
    "ExecuteTime": {
     "end_time": "2025-06-21T21:23:52.876878Z",
     "start_time": "2025-06-21T21:23:48.425331Z"
    }
   },
   "cell_type": "code",
   "source": [
    "import pandas as pd\n",
    "from datasets import load_dataset\n",
    "\n",
    "# Load the user reviews for the \"Electronics\" category\n",
    "# This dataset is large, so we'll again stream it and take a sample.\n",
    "# The name for the electronics reviews is \"raw_review_Electronics\"\n",
    "streaming_dataset_reviews = load_dataset(\"McAuley-Lab/Amazon-Reviews-2023\", \"raw_review_Electronics\", trust_remote_code=True, split=\"full\", streaming=True)\n",
    "\n",
    "# Let's take a sample of 1000 reviews to start\n",
    "sample_reviews = list(streaming_dataset_reviews.take(1000))\n",
    "\n",
    "# Create a DataFrame\n",
    "reviews_df = pd.DataFrame(sample_reviews)\n",
    "\n",
    "# Display the first few rows of the reviews DataFrame\n",
    "print(\"Shape of the reviews DataFrame:\", reviews_df.shape)\n",
    "reviews_df.head()"
   ],
   "id": "94d62dd509ce8481",
   "outputs": [
    {
     "name": "stdout",
     "output_type": "stream",
     "text": [
      "Shape of the reviews DataFrame: (1000, 10)\n"
     ]
    },
    {
     "data": {
      "text/plain": [
       "   rating                                        title  \\\n",
       "0     3.0            Smells like gasoline! Going back!   \n",
       "1     1.0      Didn’t work at all lenses loose/broken.   \n",
       "2     5.0                                   Excellent!   \n",
       "3     5.0                       Great laptop backpack!   \n",
       "4     5.0  Best Headphones in the Fifties price range!   \n",
       "\n",
       "                                                text  \\\n",
       "0  First & most offensive: they reek of gasoline ...   \n",
       "1  These didn’t work. Idk if they were damaged in...   \n",
       "2  I love these. They even come with a carry case...   \n",
       "3  I was searching for a sturdy backpack for scho...   \n",
       "4  I've bought these headphones three times becau...   \n",
       "\n",
       "                                              images        asin parent_asin  \\\n",
       "0  [{'small_image_url': 'https://m.media-amazon.c...  B083NRGZMM  B083NRGZMM   \n",
       "1                                                 []  B07N69T6TM  B07N69T6TM   \n",
       "2                                                 []  B01G8JO5F2  B01G8JO5F2   \n",
       "3                                                 []  B001OC5JKY  B001OC5JKY   \n",
       "4                                                 []  B013J7WUGC  B07CJYMRWM   \n",
       "\n",
       "                        user_id      timestamp  helpful_vote  \\\n",
       "0  AFKZENTNBQ7A7V7UXW5JJI6UGRYQ  1658185117948             0   \n",
       "1  AFKZENTNBQ7A7V7UXW5JJI6UGRYQ  1592678549731             0   \n",
       "2  AFKZENTNBQ7A7V7UXW5JJI6UGRYQ  1523093017534             0   \n",
       "3  AGGZ357AO26RQZVRLGU4D4N52DZQ  1290278495000            18   \n",
       "4  AG2L7H23R5LLKDKLBEF2Q3L2MVDA  1676601581238             0   \n",
       "\n",
       "   verified_purchase  \n",
       "0               True  \n",
       "1               True  \n",
       "2               True  \n",
       "3               True  \n",
       "4               True  "
      ],
      "text/html": [
       "<div>\n",
       "<style scoped>\n",
       "    .dataframe tbody tr th:only-of-type {\n",
       "        vertical-align: middle;\n",
       "    }\n",
       "\n",
       "    .dataframe tbody tr th {\n",
       "        vertical-align: top;\n",
       "    }\n",
       "\n",
       "    .dataframe thead th {\n",
       "        text-align: right;\n",
       "    }\n",
       "</style>\n",
       "<table border=\"1\" class=\"dataframe\">\n",
       "  <thead>\n",
       "    <tr style=\"text-align: right;\">\n",
       "      <th></th>\n",
       "      <th>rating</th>\n",
       "      <th>title</th>\n",
       "      <th>text</th>\n",
       "      <th>images</th>\n",
       "      <th>asin</th>\n",
       "      <th>parent_asin</th>\n",
       "      <th>user_id</th>\n",
       "      <th>timestamp</th>\n",
       "      <th>helpful_vote</th>\n",
       "      <th>verified_purchase</th>\n",
       "    </tr>\n",
       "  </thead>\n",
       "  <tbody>\n",
       "    <tr>\n",
       "      <th>0</th>\n",
       "      <td>3.0</td>\n",
       "      <td>Smells like gasoline! Going back!</td>\n",
       "      <td>First &amp; most offensive: they reek of gasoline ...</td>\n",
       "      <td>[{'small_image_url': 'https://m.media-amazon.c...</td>\n",
       "      <td>B083NRGZMM</td>\n",
       "      <td>B083NRGZMM</td>\n",
       "      <td>AFKZENTNBQ7A7V7UXW5JJI6UGRYQ</td>\n",
       "      <td>1658185117948</td>\n",
       "      <td>0</td>\n",
       "      <td>True</td>\n",
       "    </tr>\n",
       "    <tr>\n",
       "      <th>1</th>\n",
       "      <td>1.0</td>\n",
       "      <td>Didn’t work at all lenses loose/broken.</td>\n",
       "      <td>These didn’t work. Idk if they were damaged in...</td>\n",
       "      <td>[]</td>\n",
       "      <td>B07N69T6TM</td>\n",
       "      <td>B07N69T6TM</td>\n",
       "      <td>AFKZENTNBQ7A7V7UXW5JJI6UGRYQ</td>\n",
       "      <td>1592678549731</td>\n",
       "      <td>0</td>\n",
       "      <td>True</td>\n",
       "    </tr>\n",
       "    <tr>\n",
       "      <th>2</th>\n",
       "      <td>5.0</td>\n",
       "      <td>Excellent!</td>\n",
       "      <td>I love these. They even come with a carry case...</td>\n",
       "      <td>[]</td>\n",
       "      <td>B01G8JO5F2</td>\n",
       "      <td>B01G8JO5F2</td>\n",
       "      <td>AFKZENTNBQ7A7V7UXW5JJI6UGRYQ</td>\n",
       "      <td>1523093017534</td>\n",
       "      <td>0</td>\n",
       "      <td>True</td>\n",
       "    </tr>\n",
       "    <tr>\n",
       "      <th>3</th>\n",
       "      <td>5.0</td>\n",
       "      <td>Great laptop backpack!</td>\n",
       "      <td>I was searching for a sturdy backpack for scho...</td>\n",
       "      <td>[]</td>\n",
       "      <td>B001OC5JKY</td>\n",
       "      <td>B001OC5JKY</td>\n",
       "      <td>AGGZ357AO26RQZVRLGU4D4N52DZQ</td>\n",
       "      <td>1290278495000</td>\n",
       "      <td>18</td>\n",
       "      <td>True</td>\n",
       "    </tr>\n",
       "    <tr>\n",
       "      <th>4</th>\n",
       "      <td>5.0</td>\n",
       "      <td>Best Headphones in the Fifties price range!</td>\n",
       "      <td>I've bought these headphones three times becau...</td>\n",
       "      <td>[]</td>\n",
       "      <td>B013J7WUGC</td>\n",
       "      <td>B07CJYMRWM</td>\n",
       "      <td>AG2L7H23R5LLKDKLBEF2Q3L2MVDA</td>\n",
       "      <td>1676601581238</td>\n",
       "      <td>0</td>\n",
       "      <td>True</td>\n",
       "    </tr>\n",
       "  </tbody>\n",
       "</table>\n",
       "</div>"
      ]
     },
     "execution_count": 1,
     "metadata": {},
     "output_type": "execute_result"
    }
   ],
   "execution_count": 1
  },
  {
   "metadata": {
    "ExecuteTime": {
     "end_time": "2025-06-22T04:20:31.331142Z",
     "start_time": "2025-06-22T04:19:43.324406Z"
    }
   },
   "cell_type": "code",
   "source": [
    "# Display 20 random samples to get a better feel for the data\n",
    "print(\"Displaying 20 random samples from the metadata:\")\n",
    "meta_df.sample(20)\n",
    "\n",
    "import pandas as pd\n",
    "\n",
    "# Calculate missing values and fill rate\n",
    "missing_info = pd.DataFrame({\n",
    "    'missing_count': meta_df.isnull().sum(),\n",
    "    'fill_rate (%)': (1 - (meta_df.isnull().sum() / len(meta_df))) * 100\n",
    "})\n",
    "\n",
    "# Sort by fill rate to see the least complete columns first\n",
    "missing_info.sort_values(by='fill_rate (%)', ascending=True)"
   ],
   "id": "e9ddbe5af343e163",
   "outputs": [
    {
     "name": "stdout",
     "output_type": "stream",
     "text": [
      "Displaying 20 random samples from the metadata:\n"
     ]
    },
    {
     "data": {
      "text/plain": [
       "                 missing_count  fill_rate (%)\n",
       "bought_together        1610012       0.000000\n",
       "author                 1609536       0.029565\n",
       "subtitle               1609161       0.052857\n",
       "main_category           106334      93.395453\n",
       "store                     9520      99.408700\n",
       "title                        0     100.000000\n",
       "average_rating               0     100.000000\n",
       "rating_number                0     100.000000\n",
       "features                     0     100.000000\n",
       "description                  0     100.000000\n",
       "price                        0     100.000000\n",
       "images                       0     100.000000\n",
       "videos                       0     100.000000\n",
       "categories                   0     100.000000\n",
       "details                      0     100.000000\n",
       "parent_asin                  0     100.000000"
      ],
      "text/html": [
       "<div>\n",
       "<style scoped>\n",
       "    .dataframe tbody tr th:only-of-type {\n",
       "        vertical-align: middle;\n",
       "    }\n",
       "\n",
       "    .dataframe tbody tr th {\n",
       "        vertical-align: top;\n",
       "    }\n",
       "\n",
       "    .dataframe thead th {\n",
       "        text-align: right;\n",
       "    }\n",
       "</style>\n",
       "<table border=\"1\" class=\"dataframe\">\n",
       "  <thead>\n",
       "    <tr style=\"text-align: right;\">\n",
       "      <th></th>\n",
       "      <th>missing_count</th>\n",
       "      <th>fill_rate (%)</th>\n",
       "    </tr>\n",
       "  </thead>\n",
       "  <tbody>\n",
       "    <tr>\n",
       "      <th>bought_together</th>\n",
       "      <td>1610012</td>\n",
       "      <td>0.000000</td>\n",
       "    </tr>\n",
       "    <tr>\n",
       "      <th>author</th>\n",
       "      <td>1609536</td>\n",
       "      <td>0.029565</td>\n",
       "    </tr>\n",
       "    <tr>\n",
       "      <th>subtitle</th>\n",
       "      <td>1609161</td>\n",
       "      <td>0.052857</td>\n",
       "    </tr>\n",
       "    <tr>\n",
       "      <th>main_category</th>\n",
       "      <td>106334</td>\n",
       "      <td>93.395453</td>\n",
       "    </tr>\n",
       "    <tr>\n",
       "      <th>store</th>\n",
       "      <td>9520</td>\n",
       "      <td>99.408700</td>\n",
       "    </tr>\n",
       "    <tr>\n",
       "      <th>title</th>\n",
       "      <td>0</td>\n",
       "      <td>100.000000</td>\n",
       "    </tr>\n",
       "    <tr>\n",
       "      <th>average_rating</th>\n",
       "      <td>0</td>\n",
       "      <td>100.000000</td>\n",
       "    </tr>\n",
       "    <tr>\n",
       "      <th>rating_number</th>\n",
       "      <td>0</td>\n",
       "      <td>100.000000</td>\n",
       "    </tr>\n",
       "    <tr>\n",
       "      <th>features</th>\n",
       "      <td>0</td>\n",
       "      <td>100.000000</td>\n",
       "    </tr>\n",
       "    <tr>\n",
       "      <th>description</th>\n",
       "      <td>0</td>\n",
       "      <td>100.000000</td>\n",
       "    </tr>\n",
       "    <tr>\n",
       "      <th>price</th>\n",
       "      <td>0</td>\n",
       "      <td>100.000000</td>\n",
       "    </tr>\n",
       "    <tr>\n",
       "      <th>images</th>\n",
       "      <td>0</td>\n",
       "      <td>100.000000</td>\n",
       "    </tr>\n",
       "    <tr>\n",
       "      <th>videos</th>\n",
       "      <td>0</td>\n",
       "      <td>100.000000</td>\n",
       "    </tr>\n",
       "    <tr>\n",
       "      <th>categories</th>\n",
       "      <td>0</td>\n",
       "      <td>100.000000</td>\n",
       "    </tr>\n",
       "    <tr>\n",
       "      <th>details</th>\n",
       "      <td>0</td>\n",
       "      <td>100.000000</td>\n",
       "    </tr>\n",
       "    <tr>\n",
       "      <th>parent_asin</th>\n",
       "      <td>0</td>\n",
       "      <td>100.000000</td>\n",
       "    </tr>\n",
       "  </tbody>\n",
       "</table>\n",
       "</div>"
      ]
     },
     "execution_count": 4,
     "metadata": {},
     "output_type": "execute_result"
    }
   ],
   "execution_count": 4
  },
  {
   "metadata": {
    "ExecuteTime": {
     "end_time": "2025-06-22T02:23:50.536522Z",
     "start_time": "2025-06-22T02:23:47.004118Z"
    }
   },
   "cell_type": "code",
   "source": [
    "# Inspect the raw text of the 'description' field for a few products\n",
    "print(\"Raw 'description' text for a few sample products:\")\n",
    "for i, desc in enumerate(meta_df['description'].dropna().sample(3, random_state=42)):\n",
    "    print(f\"--- Sample {i+1} ---\")\n",
    "    print(desc)\n",
    "    print(\"\\\\n\")"
   ],
   "id": "834655adc61ecc68",
   "outputs": [
    {
     "name": "stdout",
     "output_type": "stream",
     "text": [
      "Raw 'description' text for a few sample products:\n",
      "--- Sample 1 ---\n",
      "['NAD - C 372 - Integrated Amplifier\\xa0Technical Details * 2 x 150W Minimum Continuous Power into 4/8 ohms * 220W, 340W, 460W IHF Dynamic Power into 8, 4 and 2 ohms, respectively * High Current Holmgren? Toroidal Power Transformer * A/B Speaker outputs w']\n",
      "\\n\n",
      "--- Sample 2 ---\n",
      "['Protect your iPod with a design that is truly out of this world! GEAR4 is proud to offer this exclusive range of officially licensed iPod Touch cases as a companion to the worldwide phenomenon Angry Birds Space. This case is made from strong high gloss plastic that clips easily onto your iPod Touch covering the back and all sides from accidental bumps and scratches. The case has cut outs allowing easy access to all ports on the iPod, as well as a camera cut out and access to volume controls.']\n",
      "\\n\n",
      "--- Sample 3 ---\n",
      "[]\n",
      "\\n\n"
     ]
    }
   ],
   "execution_count": 10
  },
  {
   "metadata": {
    "ExecuteTime": {
     "end_time": "2025-06-22T02:23:50.645764Z",
     "start_time": "2025-06-22T02:23:50.642511Z"
    }
   },
   "cell_type": "code",
   "source": [
    "from bs4 import BeautifulSoup\n",
    "\n",
    "def clean_html(text):\n",
    "    \"\"\"\n",
    "    Removes HTML tags from a given text string.\n",
    "    Returns an empty string if the input is not a string.\n",
    "    \"\"\"\n",
    "    if not isinstance(text, str):\n",
    "        return \"\"\n",
    "    # The 'lxml' parser is fast, but 'html.parser' is built-in if you don't have lxml installed.\n",
    "    soup = BeautifulSoup(text, \"lxml\")\n",
    "    return soup.get_text(separator=\" \", strip=True)\n",
    "\n",
    "print(\"`clean_html` function is defined and ready to use.\")"
   ],
   "id": "353c3b145173dca2",
   "outputs": [
    {
     "name": "stdout",
     "output_type": "stream",
     "text": [
      "`clean_html` function is defined and ready to use.\n"
     ]
    }
   ],
   "execution_count": 11
  },
  {
   "metadata": {
    "ExecuteTime": {
     "end_time": "2025-06-22T02:23:54.131254Z",
     "start_time": "2025-06-22T02:23:50.771639Z"
    }
   },
   "cell_type": "code",
   "source": [
    "# Get the same 3 samples to test our cleaning function\n",
    "sample_descriptions = meta_df['description'].dropna().sample(3, random_state=42)\n",
    "\n",
    "print(\"Testing the HTML cleaning script:\\\\n\")\n",
    "for i, desc in enumerate(sample_descriptions):\n",
    "    print(f\"--- Sample {i+1} ---\")\n",
    "    print(f\"Original: {desc[:300]}...\") # Print first 300 chars of original\n",
    "    cleaned_desc = clean_html(desc)\n",
    "    print(f\"Cleaned:  {cleaned_desc[:300]}...\") # Print first 300 chars of cleaned\n",
    "    print(\"\\\\n\")"
   ],
   "id": "735d953e2022e87",
   "outputs": [
    {
     "name": "stdout",
     "output_type": "stream",
     "text": [
      "Testing the HTML cleaning script:\\n\n",
      "--- Sample 1 ---\n",
      "Original: ['NAD - C 372 - Integrated Amplifier\\xa0Technical Details * 2 x 150W Minimum Continuous Power into 4/8 ohms * 220W, 340W, 460W IHF Dynamic Power into 8, 4 and 2 ohms, respectively * High Current Holmgren? Toroidal Power Transformer * A/B Speaker outputs w']...\n",
      "Cleaned:  ...\n",
      "\\n\n",
      "--- Sample 2 ---\n",
      "Original: ['Protect your iPod with a design that is truly out of this world! GEAR4 is proud to offer this exclusive range of officially licensed iPod Touch cases as a companion to the worldwide phenomenon Angry Birds Space. This case is made from strong high gloss plastic that clips easily onto your iPod Touch covering the back and all sides from accidental bumps and scratches. The case has cut outs allowing easy access to all ports on the iPod, as well as a camera cut out and access to volume controls.']...\n",
      "Cleaned:  ...\n",
      "\\n\n",
      "--- Sample 3 ---\n",
      "Original: []...\n",
      "Cleaned:  ...\n",
      "\\n\n"
     ]
    }
   ],
   "execution_count": 12
  },
  {
   "metadata": {
    "ExecuteTime": {
     "end_time": "2025-06-22T04:23:39.551802Z",
     "start_time": "2025-06-22T04:23:36.229448Z"
    }
   },
   "cell_type": "code",
   "source": [
    "from bs4 import BeautifulSoup\n",
    "\n",
    "def robust_clean_html(data):\n",
    "    \"\"\"\n",
    "    Handles list or string input and removes HTML tags.\n",
    "    \"\"\"\n",
    "    text = \"\"\n",
    "    if isinstance(data, list) and len(data) > 0:\n",
    "        # If it's a list, take the first element\n",
    "        text = data[0]\n",
    "    elif isinstance(data, str):\n",
    "        text = data\n",
    "\n",
    "    if not isinstance(text, str):\n",
    "        return \"\"\n",
    "\n",
    "    soup = BeautifulSoup(text, \"lxml\")\n",
    "    return soup.get_text(separator=\" \", strip=True)\n",
    "\n",
    "# --- Let's test it on the same samples ---\n",
    "sample_descriptions = meta_df['description'].dropna().sample(3, random_state=42)\n",
    "\n",
    "print(\"Testing the ROBUST HTML cleaning script:\\\\n\")\n",
    "for i, desc in enumerate(sample_descriptions):\n",
    "    # Notice we pass the raw data (which is a list) to the function\n",
    "    cleaned_desc = robust_clean_html(desc)\n",
    "    print(f\"--- Sample {i+1} ---\")\n",
    "    print(f\"Original: {str(desc)[:100]}...\")\n",
    "    print(f\"Cleaned:  {cleaned_desc[:100]}...\")\n",
    "    print(\"\\\\n\")"
   ],
   "id": "f9c08bd33e6b378d",
   "outputs": [
    {
     "name": "stdout",
     "output_type": "stream",
     "text": [
      "Testing the ROBUST HTML cleaning script:\\n\n",
      "--- Sample 1 ---\n",
      "Original: ['NAD - C 372 - Integrated Amplifier\\xa0Technical Details * 2 x 150W Minimum Continuous Power into 4...\n",
      "Cleaned:  NAD - C 372 - Integrated Amplifier Technical Details * 2 x 150W Minimum Continuous Power into 4/8 oh...\n",
      "\\n\n",
      "--- Sample 2 ---\n",
      "Original: ['Protect your iPod with a design that is truly out of this world! GEAR4 is proud to offer this excl...\n",
      "Cleaned:  Protect your iPod with a design that is truly out of this world! GEAR4 is proud to offer this exclus...\n",
      "\\n\n",
      "--- Sample 3 ---\n",
      "Original: []...\n",
      "Cleaned:  ...\n",
      "\\n\n"
     ]
    },
    {
     "name": "stderr",
     "output_type": "stream",
     "text": [
      "/var/folders/46/73tgs6wx3sjfczgbz38g01840000gn/T/ipykernel_78908/1961603689.py:17: MarkupResemblesLocatorWarning: The input looks more like a filename than markup. You may want to open this file and pass the filehandle into Beautiful Soup.\n",
      "  soup = BeautifulSoup(text, \"lxml\")\n"
     ]
    }
   ],
   "execution_count": 9
  },
  {
   "metadata": {
    "ExecuteTime": {
     "end_time": "2025-06-22T04:23:14.188835Z",
     "start_time": "2025-06-22T04:22:47.157874Z"
    }
   },
   "cell_type": "code",
   "source": [
    "import pandas as pd\n",
    "import numpy as np\n",
    "\n",
    "def is_actually_empty(value):\n",
    "    \"\"\"\n",
    "    A truly robust function to check for empty values in the DataFrame.\n",
    "    The order of these checks is critical.\n",
    "    \"\"\"\n",
    "    # 1. First, check for list-like or dict-like objects.\n",
    "    #    Their emptiness is determined by their length.\n",
    "    if isinstance(value, (list, dict, np.ndarray)):\n",
    "        return len(value) == 0\n",
    "\n",
    "    # 2. Now it's safe to check for standard null values (for scalars).\n",
    "    if pd.isnull(value):\n",
    "        return True\n",
    "\n",
    "    # 3. Finally, check for empty strings.\n",
    "    if isinstance(value, str):\n",
    "        return value.strip() == ''\n",
    "\n",
    "    # If none of the above conditions are met, the value is not empty.\n",
    "    return False\n",
    "\n",
    "# Use the new, truly robust function\n",
    "empty_counts = meta_df.map(is_actually_empty).sum()\n",
    "\n",
    "# Create the accurate completeness report\n",
    "realistic_completeness_report = pd.DataFrame({\n",
    "    'empty_count': empty_counts,\n",
    "    'realistic_fill_rate (%)': (1 - (empty_counts / len(meta_df))) * 100\n",
    "})\n",
    "\n",
    "# Display the report\n",
    "realistic_completeness_report.sort_values(by='realistic_fill_rate (%)', ascending=False)"
   ],
   "id": "e685ac54c9054bd5",
   "outputs": [
    {
     "data": {
      "text/plain": [
       "                 empty_count  realistic_fill_rate (%)\n",
       "average_rating             0               100.000000\n",
       "rating_number              0               100.000000\n",
       "price                      0               100.000000\n",
       "images                     0               100.000000\n",
       "videos                     0               100.000000\n",
       "details                    0               100.000000\n",
       "parent_asin                0               100.000000\n",
       "title                     94                99.994162\n",
       "store                   9522                99.408576\n",
       "main_category         106334                93.395453\n",
       "categories            128442                92.022295\n",
       "features              423041                73.724357\n",
       "description           682748                57.593608\n",
       "subtitle             1609161                 0.052857\n",
       "author               1609536                 0.029565\n",
       "bought_together      1610012                 0.000000"
      ],
      "text/html": [
       "<div>\n",
       "<style scoped>\n",
       "    .dataframe tbody tr th:only-of-type {\n",
       "        vertical-align: middle;\n",
       "    }\n",
       "\n",
       "    .dataframe tbody tr th {\n",
       "        vertical-align: top;\n",
       "    }\n",
       "\n",
       "    .dataframe thead th {\n",
       "        text-align: right;\n",
       "    }\n",
       "</style>\n",
       "<table border=\"1\" class=\"dataframe\">\n",
       "  <thead>\n",
       "    <tr style=\"text-align: right;\">\n",
       "      <th></th>\n",
       "      <th>empty_count</th>\n",
       "      <th>realistic_fill_rate (%)</th>\n",
       "    </tr>\n",
       "  </thead>\n",
       "  <tbody>\n",
       "    <tr>\n",
       "      <th>average_rating</th>\n",
       "      <td>0</td>\n",
       "      <td>100.000000</td>\n",
       "    </tr>\n",
       "    <tr>\n",
       "      <th>rating_number</th>\n",
       "      <td>0</td>\n",
       "      <td>100.000000</td>\n",
       "    </tr>\n",
       "    <tr>\n",
       "      <th>price</th>\n",
       "      <td>0</td>\n",
       "      <td>100.000000</td>\n",
       "    </tr>\n",
       "    <tr>\n",
       "      <th>images</th>\n",
       "      <td>0</td>\n",
       "      <td>100.000000</td>\n",
       "    </tr>\n",
       "    <tr>\n",
       "      <th>videos</th>\n",
       "      <td>0</td>\n",
       "      <td>100.000000</td>\n",
       "    </tr>\n",
       "    <tr>\n",
       "      <th>details</th>\n",
       "      <td>0</td>\n",
       "      <td>100.000000</td>\n",
       "    </tr>\n",
       "    <tr>\n",
       "      <th>parent_asin</th>\n",
       "      <td>0</td>\n",
       "      <td>100.000000</td>\n",
       "    </tr>\n",
       "    <tr>\n",
       "      <th>title</th>\n",
       "      <td>94</td>\n",
       "      <td>99.994162</td>\n",
       "    </tr>\n",
       "    <tr>\n",
       "      <th>store</th>\n",
       "      <td>9522</td>\n",
       "      <td>99.408576</td>\n",
       "    </tr>\n",
       "    <tr>\n",
       "      <th>main_category</th>\n",
       "      <td>106334</td>\n",
       "      <td>93.395453</td>\n",
       "    </tr>\n",
       "    <tr>\n",
       "      <th>categories</th>\n",
       "      <td>128442</td>\n",
       "      <td>92.022295</td>\n",
       "    </tr>\n",
       "    <tr>\n",
       "      <th>features</th>\n",
       "      <td>423041</td>\n",
       "      <td>73.724357</td>\n",
       "    </tr>\n",
       "    <tr>\n",
       "      <th>description</th>\n",
       "      <td>682748</td>\n",
       "      <td>57.593608</td>\n",
       "    </tr>\n",
       "    <tr>\n",
       "      <th>subtitle</th>\n",
       "      <td>1609161</td>\n",
       "      <td>0.052857</td>\n",
       "    </tr>\n",
       "    <tr>\n",
       "      <th>author</th>\n",
       "      <td>1609536</td>\n",
       "      <td>0.029565</td>\n",
       "    </tr>\n",
       "    <tr>\n",
       "      <th>bought_together</th>\n",
       "      <td>1610012</td>\n",
       "      <td>0.000000</td>\n",
       "    </tr>\n",
       "  </tbody>\n",
       "</table>\n",
       "</div>"
      ]
     },
     "execution_count": 8,
     "metadata": {},
     "output_type": "execute_result"
    }
   ],
   "execution_count": 8
  },
  {
   "metadata": {
    "ExecuteTime": {
     "end_time": "2025-06-22T04:27:06.439234Z",
     "start_time": "2025-06-22T04:27:03.517528Z"
    }
   },
   "cell_type": "code",
   "source": [
    "# Show the most common values in the 'price' column\n",
    "print(\"Most frequent values in the 'price' column:\")\n",
    "print(meta_df['price'].value_counts().head())\n",
    "\n",
    "# Show a few examples of products where the price is 0\n",
    "print(\"\\\\n--- Examples of products with a price of 0.0 ---\")\n",
    "print(meta_df[meta_df['price'] == 0.0][['title', 'price']].head())"
   ],
   "id": "e4c56cfdcb7b7f31",
   "outputs": [
    {
     "name": "stdout",
     "output_type": "stream",
     "text": [
      "Most frequent values in the 'price' column:\n",
      "price\n",
      "None     1083247\n",
      "9.99       15517\n",
      "19.99      11481\n",
      "8.99       10287\n",
      "7.99        9309\n",
      "Name: count, dtype: int64\n",
      "\\n--- Examples of products with a price of 0.0 ---\n",
      "Empty DataFrame\n",
      "Columns: [title, price]\n",
      "Index: []\n"
     ]
    }
   ],
   "execution_count": 10
  },
  {
   "metadata": {
    "ExecuteTime": {
     "end_time": "2025-06-22T04:32:46.903667Z",
     "start_time": "2025-06-22T04:31:49.081683Z"
    }
   },
   "cell_type": "code",
   "source": [
    "import pandas as pd\n",
    "\n",
    "print(\"Checking all columns for the literal string 'None'...\")\n",
    "\n",
    "string_none_counts = {}\n",
    "for col in meta_df.columns:\n",
    "    # We can only check columns that have a string-like data type\n",
    "    if meta_df[col].dtype == 'object':\n",
    "        try:\n",
    "            count = meta_df[meta_df[col] == 'None'].shape[0]\n",
    "            if count > 0:\n",
    "                string_none_counts[col] = count\n",
    "        except TypeError:\n",
    "            # This can happen if a column has mixed types. We'll ignore errors.\n",
    "            pass\n",
    "\n",
    "if string_none_counts:\n",
    "    print(\"\\\\nFound columns containing the string 'None':\")\n",
    "    for col, count in string_none_counts.items():\n",
    "        print(f\"- {col}: {count}\")\n",
    "else:\n",
    "    print(\"\\\\nNo columns were found to contain the string 'None'.\")"
   ],
   "id": "f9b8e7676c90cee7",
   "outputs": [
    {
     "name": "stdout",
     "output_type": "stream",
     "text": [
      "Checking all columns for the literal string 'None'...\n",
      "\\nFound columns containing the string 'None':\n",
      "- price: 1083247\n",
      "- store: 39\n"
     ]
    }
   ],
   "execution_count": 14
  },
  {
   "metadata": {
    "ExecuteTime": {
     "end_time": "2025-06-22T07:25:18.297515Z",
     "start_time": "2025-06-22T07:22:56.332938Z"
    }
   },
   "cell_type": "code",
   "source": [
    "import pandas as pd\n",
    "import numpy as np\n",
    "\n",
    "def is_empty_definitive(value):\n",
    "    \"\"\"\n",
    "    Definitive function that correctly handles all known empty cases,\n",
    "    including the literal string 'None'.\n",
    "    \"\"\"\n",
    "    if value == 'None':\n",
    "        return True\n",
    "    if isinstance(value, (list, dict, np.ndarray)):\n",
    "        return len(value) == 0\n",
    "    if pd.isnull(value):\n",
    "        return True\n",
    "    if isinstance(value, str):\n",
    "        return value.strip() == ''\n",
    "    return False\n",
    "\n",
    "print(\"--- Comprehensive Column Analysis ---\\\\n\")\n",
    "\n",
    "# Define how to handle different columns\n",
    "categorical_cols = ['store', 'main_category', 'average_rating']\n",
    "numerical_cols = ['price', 'rating_number']\n",
    "high_cardinality_cols = ['title', 'description']\n",
    "\n",
    "for col in meta_df.columns:\n",
    "    print(f\"--- Analyzing column: '{col}' ---\")\n",
    "\n",
    "    # 1. First, calculate and print the definitive fill rate for every column\n",
    "    empty_count = meta_df[col].map(is_empty_definitive).sum()\n",
    "    fill_rate = (1 - (empty_count / len(meta_df))) * 100\n",
    "    print(f\"Definitive Fill Rate: {fill_rate:.2f}%\")\n",
    "\n",
    "    # 2. Then, perform the appropriate detailed analysis\n",
    "    if col in categorical_cols:\n",
    "        print(\"Top 5 most frequent values:\")\n",
    "        print(meta_df[col].value_counts().head(5))\n",
    "\n",
    "    elif col in numerical_cols:\n",
    "        print(\"Descriptive statistics:\")\n",
    "        numeric_series = pd.to_numeric(meta_df[col], errors='coerce')\n",
    "        print(numeric_series.describe())\n",
    "\n",
    "    elif col in high_cardinality_cols:\n",
    "        try:\n",
    "            # This will work for 'title' but fail for 'description' because it contains lists\n",
    "            uniqueness_ratio = meta_df[col].nunique() / len(meta_df)\n",
    "            print(f\"Uniqueness ratio: {uniqueness_ratio:.4f}\")\n",
    "        except TypeError:\n",
    "            # FIX: If nunique fails, it's because the column has unhashable lists.\n",
    "            # We can convert to strings to get an approximate uniqueness.\n",
    "            print(\"Column contains unhashable lists. Calculating uniqueness on string-converted values.\")\n",
    "            uniqueness_ratio = meta_df[col].astype(str).nunique() / len(meta_df)\n",
    "            print(f\"Uniqueness ratio (as string): {uniqueness_ratio:.4f}\")\n",
    "\n",
    "    else:\n",
    "        print(f\"Skipping detailed analysis for column '{col}'.\")\n",
    "\n",
    "    print(\"\\\\n\" + \"=\"*50 + \"\\\\n\")"
   ],
   "id": "dec413438c98f66",
   "outputs": [
    {
     "name": "stdout",
     "output_type": "stream",
     "text": [
      "--- Comprehensive Column Analysis ---\\n\n",
      "--- Analyzing column: 'main_category' ---\n",
      "Definitive Fill Rate: 93.40%\n",
      "Top 5 most frequent values:\n",
      "main_category\n",
      "Computers                    418868\n",
      "All Electronics              376435\n",
      "Camera & Photo               223690\n",
      "Cell Phones & Accessories    138237\n",
      "Home Audio & Theater         106516\n",
      "Name: count, dtype: int64\n",
      "\\n==================================================\\n\n",
      "--- Analyzing column: 'title' ---\n",
      "Definitive Fill Rate: 99.99%\n",
      "Uniqueness ratio: 0.9636\n",
      "\\n==================================================\\n\n",
      "--- Analyzing column: 'average_rating' ---\n",
      "Definitive Fill Rate: 100.00%\n",
      "Top 5 most frequent values:\n",
      "average_rating\n",
      "5.0    223376\n",
      "4.0    115500\n",
      "4.5    111736\n",
      "4.4     94421\n",
      "4.3     91925\n",
      "Name: count, dtype: int64\n",
      "\\n==================================================\\n\n",
      "--- Analyzing column: 'rating_number' ---\n",
      "Definitive Fill Rate: 100.00%\n",
      "Descriptive statistics:\n",
      "count    1.610012e+06\n",
      "mean     1.804833e+02\n",
      "std      2.543980e+03\n",
      "min      1.000000e+00\n",
      "25%      3.000000e+00\n",
      "50%      1.200000e+01\n",
      "75%      4.900000e+01\n",
      "max      1.034896e+06\n",
      "Name: rating_number, dtype: float64\n",
      "\\n==================================================\\n\n",
      "--- Analyzing column: 'features' ---\n",
      "Definitive Fill Rate: 73.72%\n",
      "Skipping detailed analysis for column 'features'.\n",
      "\\n==================================================\\n\n",
      "--- Analyzing column: 'description' ---\n",
      "Definitive Fill Rate: 57.59%\n",
      "Column contains unhashable lists. Calculating uniqueness on string-converted values.\n",
      "Uniqueness ratio (as string): 0.4634\n",
      "\\n==================================================\\n\n",
      "--- Analyzing column: 'price' ---\n",
      "Definitive Fill Rate: 32.72%\n",
      "Descriptive statistics:\n",
      "count    526449.000000\n",
      "mean         96.457675\n",
      "std         319.173788\n",
      "min           0.000000\n",
      "25%          11.990000\n",
      "50%          22.900000\n",
      "75%          60.000000\n",
      "max       44630.000000\n",
      "Name: price, dtype: float64\n",
      "\\n==================================================\\n\n",
      "--- Analyzing column: 'images' ---\n",
      "Definitive Fill Rate: 100.00%\n",
      "Skipping detailed analysis for column 'images'.\n",
      "\\n==================================================\\n\n",
      "--- Analyzing column: 'videos' ---\n",
      "Definitive Fill Rate: 100.00%\n",
      "Skipping detailed analysis for column 'videos'.\n",
      "\\n==================================================\\n\n",
      "--- Analyzing column: 'store' ---\n",
      "Definitive Fill Rate: 99.41%\n",
      "Top 5 most frequent values:\n",
      "store\n",
      "Amazon Renewed    30576\n",
      "HP                17129\n",
      "Sony              14160\n",
      "Generic           13499\n",
      "SAMSUNG           11503\n",
      "Name: count, dtype: int64\n",
      "\\n==================================================\\n\n",
      "--- Analyzing column: 'categories' ---\n",
      "Definitive Fill Rate: 92.02%\n",
      "Skipping detailed analysis for column 'categories'.\n",
      "\\n==================================================\\n\n",
      "--- Analyzing column: 'details' ---\n",
      "Definitive Fill Rate: 100.00%\n",
      "Skipping detailed analysis for column 'details'.\n",
      "\\n==================================================\\n\n",
      "--- Analyzing column: 'parent_asin' ---\n",
      "Definitive Fill Rate: 100.00%\n",
      "Skipping detailed analysis for column 'parent_asin'.\n",
      "\\n==================================================\\n\n",
      "--- Analyzing column: 'bought_together' ---\n",
      "Definitive Fill Rate: 0.00%\n",
      "Skipping detailed analysis for column 'bought_together'.\n",
      "\\n==================================================\\n\n",
      "--- Analyzing column: 'subtitle' ---\n",
      "Definitive Fill Rate: 0.05%\n",
      "Skipping detailed analysis for column 'subtitle'.\n",
      "\\n==================================================\\n\n",
      "--- Analyzing column: 'author' ---\n",
      "Definitive Fill Rate: 0.03%\n",
      "Skipping detailed analysis for column 'author'.\n",
      "\\n==================================================\\n\n"
     ]
    }
   ],
   "execution_count": 7
  },
  {
   "metadata": {
    "ExecuteTime": {
     "end_time": "2025-06-22T07:30:27.164206Z",
     "start_time": "2025-06-22T07:30:27.157305Z"
    }
   },
   "cell_type": "code",
   "source": "meta_df.columns",
   "id": "e445a998bcfe02d8",
   "outputs": [
    {
     "data": {
      "text/plain": [
       "Index(['main_category', 'title', 'average_rating', 'rating_number', 'features',\n",
       "       'description', 'price', 'images', 'videos', 'store', 'categories',\n",
       "       'details', 'parent_asin', 'bought_together', 'subtitle', 'author'],\n",
       "      dtype='object')"
      ]
     },
     "execution_count": 9,
     "metadata": {},
     "output_type": "execute_result"
    }
   ],
   "execution_count": 9
  },
  {
   "metadata": {},
   "cell_type": "code",
   "outputs": [],
   "execution_count": null,
   "source": "",
   "id": "3d14913d189d410f"
  }
 ],
 "metadata": {
  "kernelspec": {
   "display_name": "Python (e-comm chatbot)",
   "language": "python",
   "name": "ecomm-chatbot-venv"
  },
  "language_info": {
   "codemirror_mode": {
    "name": "ipython",
    "version": 3
   },
   "file_extension": ".py",
   "mimetype": "text/x-python",
   "name": "python",
   "nbconvert_exporter": "python",
   "pygments_lexer": "ipython3",
   "version": "3.11.9"
  }
 },
 "nbformat": 4,
 "nbformat_minor": 5
}
