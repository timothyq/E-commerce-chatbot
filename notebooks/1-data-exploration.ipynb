{
 "cells": [
  {
   "cell_type": "code",
   "id": "1aa015088246adda",
   "metadata": {
    "ExecuteTime": {
     "end_time": "2025-06-19T20:08:54.557263Z",
     "start_time": "2025-06-19T20:08:54.553743Z"
    }
   },
   "source": [
    "import sys\n",
    "\n",
    "# This will print the exact path to the Python executable that is running this notebook's code.\n",
    "print(sys.executable)"
   ],
   "outputs": [
    {
     "name": "stdout",
     "output_type": "stream",
     "text": [
      "/Users/qyxmacmini/Documents/GitHub/e-commerce-chatbot/.venv/bin/python\n"
     ]
    }
   ],
   "execution_count": 1
  },
  {
   "cell_type": "code",
   "id": "7bd55e70a9077fbf",
   "metadata": {
    "ExecuteTime": {
     "end_time": "2025-06-19T20:09:16.558996Z",
     "start_time": "2025-06-19T20:09:10.811435Z"
    }
   },
   "source": [
    "import os\n",
    "from dotenv import load_dotenv\n",
    "from pathlib import Path\n",
    "\n",
    "# --- Load Project-Specific Environment Variables ---\n",
    "# This is the key step: It searches for a .env file and loads it.\n",
    "# It's smart enough to search up from the current directory to find it.\n",
    "load_dotenv()\n",
    "\n",
    "# You can now verify that the environment variable is set for this session\n",
    "hf_home = os.getenv(\"HF_HOME\")\n",
    "print(f\"Hugging Face cache is set to: {hf_home}\")\n",
    "\n",
    "\n",
    "# --- Now you can proceed with your imports and data loading ---\n",
    "from datasets import load_dataset\n",
    "import pandas as pd\n",
    "\n",
    "# This load_dataset call will now automatically use the path defined in your .env file\n",
    "print(\"\\nLoading Electronics metadata...\")\n",
    "meta_dataset = load_dataset(\n",
    "    \"McAuley-Lab/Amazon-Reviews-2023\",\n",
    "    name=\"raw_meta_Electronics\",\n",
    "    streaming=True,\n",
    "    trust_remote_code=True\n",
    ")\n",
    "\n",
    "# ... rest of your notebook"
   ],
   "outputs": [
    {
     "name": "stdout",
     "output_type": "stream",
     "text": [
      "Hugging Face cache is set to: /Volumes/ExtremeSSD/workingspace/ChatBotAmazon/data\n",
      "\n",
      "Loading Electronics metadata...\n"
     ]
    }
   ],
   "execution_count": 2
  },
  {
   "cell_type": "code",
   "id": "8fdfdf858cd468e9",
   "metadata": {
    "ExecuteTime": {
     "end_time": "2025-06-19T20:22:00.134780Z",
     "start_time": "2025-06-19T20:18:22.058299Z"
    }
   },
   "source": [
    "from datasets import load_dataset\n",
    "import pandas as pd\n",
    "import json\n",
    "from pathlib import Path\n",
    "import os\n",
    "\n",
    "# --- 1. Load Environment Variables (if needed for authentication) ---\n",
    "from dotenv import load_dotenv\n",
    "load_dotenv()\n",
    "print(\"Environment variables loaded.\")\n",
    "\n",
    "# --- 2. Load the FULL dataset (non-streaming) ---\n",
    "# This will download the entire ~5.5 GB metadata file to your cache directory\n",
    "# on your portable drive. This will take some time on the first run.\n",
    "print(\"Loading Electronics metadata (non-streaming mode)...\")\n",
    "print(\"This may take several minutes as it downloads the full dataset...\")\n",
    "\n",
    "try:\n",
    "    # We are now using the default, non-streaming method which is more robust.\n",
    "    # We specify split='full' to get the entire dataset.\n",
    "    meta_dataset = load_dataset(\n",
    "        \"McAuley-Lab/Amazon-Reviews-2023\",\n",
    "        name=\"raw_meta_Electronics\",\n",
    "        split=\"full\",\n",
    "        trust_remote_code=True\n",
    "    )\n",
    "    print(\"\\nDataset loaded successfully!\")\n",
    "    print(f\"Total number of products in Electronics metadata: {len(meta_dataset)}\")\n",
    "\n",
    "except Exception as e:\n",
    "    print(f\"An error occurred: {e}\")\n",
    "\n",
    "\n",
    "# --- 3. Now you can explore the data ---\n",
    "if 'meta_dataset' in locals():\n",
    "    # Print the first product to see the structure\n",
    "    print(\"\\n--- First Product Data ---\")\n",
    "    first_product = meta_dataset[0]\n",
    "    print(json.dumps(first_product, indent=2))\n",
    "\n",
    "    # You can now create a Pandas DataFrame from a larger slice for better EDA\n",
    "    print(\"\\n--- Sample as DataFrame ---\")\n",
    "    meta_sample_df = pd.DataFrame(meta_dataset[:1000]) # Analyze first 1000 rows\n",
    "    display(meta_sample_df.head())\n",
    "\n",
    "    # Now you can do more powerful analysis, like checking for missing values across the whole sample\n",
    "    print(\"\\nMissing values in the first 1000 products:\")\n",
    "    display(meta_sample_df.isnull().sum())"
   ],
   "outputs": [
    {
     "name": "stdout",
     "output_type": "stream",
     "text": [
      "Environment variables loaded.\n",
      "Loading Electronics metadata (non-streaming mode)...\n",
      "This may take several minutes as it downloads the full dataset...\n"
     ]
    },
    {
     "data": {
      "text/plain": [
       "README.md:   0%|          | 0.00/30.3k [00:00<?, ?B/s]"
      ],
      "application/vnd.jupyter.widget-view+json": {
       "version_major": 2,
       "version_minor": 0,
       "model_id": "41c6555261c44dbb906a9624cb631faf"
      }
     },
     "metadata": {},
     "output_type": "display_data"
    },
    {
     "data": {
      "text/plain": [
       "Amazon-Reviews-2023.py:   0%|          | 0.00/39.6k [00:00<?, ?B/s]"
      ],
      "application/vnd.jupyter.widget-view+json": {
       "version_major": 2,
       "version_minor": 0,
       "model_id": "2ada4e2c87524416b8c0ea264bd14f30"
      }
     },
     "metadata": {},
     "output_type": "display_data"
    },
    {
     "data": {
      "text/plain": [
       "meta_Electronics.jsonl:   0%|          | 0.00/5.25G [00:00<?, ?B/s]"
      ],
      "application/vnd.jupyter.widget-view+json": {
       "version_major": 2,
       "version_minor": 0,
       "model_id": "fb3947a1ce5445c7bbafa562e1b25da1"
      }
     },
     "metadata": {},
     "output_type": "display_data"
    },
    {
     "data": {
      "text/plain": [
       "Generating full split:   0%|          | 0/1610012 [00:00<?, ? examples/s]"
      ],
      "application/vnd.jupyter.widget-view+json": {
       "version_major": 2,
       "version_minor": 0,
       "model_id": "37d8944314fa4a8eacb7c1c0b2ea21b6"
      }
     },
     "metadata": {},
     "output_type": "display_data"
    },
    {
     "name": "stdout",
     "output_type": "stream",
     "text": [
      "\n",
      "Dataset loaded successfully!\n",
      "Total number of products in Electronics metadata: 1610012\n",
      "\n",
      "--- First Product Data ---\n",
      "{\n",
      "  \"main_category\": \"All Electronics\",\n",
      "  \"title\": \"FS-1051 FATSHARK TELEPORTER V3 HEADSET\",\n",
      "  \"average_rating\": 3.5,\n",
      "  \"rating_number\": 6,\n",
      "  \"features\": [],\n",
      "  \"description\": [\n",
      "    \"Teleporter V3 The \\u201cTeleporter V3\\u201d kit sets a new level of value in the FPV world with Fat Shark renowned performance and quality. The fun of FPV is experienced firsthand through the large screen FPV headset with integrated NexwaveRF receiver technology while simultaneously recording onboard HD footage with the included \\u201cPilotHD\\u201d camera. The \\u201cTeleporter V3\\u201d kit comes complete with everything you need to step into the cockpit of your FPV vehicle. We\\u2019ve included our powerful 250mW 5.8Ghz transmitter, 25 degree FOV headset (largest QVGA display available), the brand new \\u201cPilotHD\\u201d camera with live AV out and all the cables, antennas and connectors needed.\"\n",
      "  ],\n",
      "  \"price\": \"None\",\n",
      "  \"images\": {\n",
      "    \"hi_res\": [\n",
      "      null\n",
      "    ],\n",
      "    \"large\": [\n",
      "      \"https://m.media-amazon.com/images/I/41qrX56lsYL._AC_.jpg\"\n",
      "    ],\n",
      "    \"thumb\": [\n",
      "      \"https://m.media-amazon.com/images/I/41qrX56lsYL._AC_US40_.jpg\"\n",
      "    ],\n",
      "    \"variant\": [\n",
      "      \"MAIN\"\n",
      "    ]\n",
      "  },\n",
      "  \"videos\": {\n",
      "    \"title\": [],\n",
      "    \"url\": [],\n",
      "    \"user_id\": []\n",
      "  },\n",
      "  \"store\": \"Fat Shark\",\n",
      "  \"categories\": [\n",
      "    \"Electronics\",\n",
      "    \"Television & Video\",\n",
      "    \"Video Glasses\"\n",
      "  ],\n",
      "  \"details\": \"{\\\"Date First Available\\\": \\\"August 2, 2014\\\", \\\"Manufacturer\\\": \\\"Fatshark\\\"}\",\n",
      "  \"parent_asin\": \"B00MCW7G9M\",\n",
      "  \"bought_together\": null,\n",
      "  \"subtitle\": null,\n",
      "  \"author\": null\n",
      "}\n",
      "\n",
      "--- Sample as DataFrame ---\n"
     ]
    },
    {
     "data": {
      "text/plain": [
       "               main_category  \\\n",
       "0            All Electronics   \n",
       "1            All Electronics   \n",
       "2                  Computers   \n",
       "3             AMAZON FASHION   \n",
       "4  Cell Phones & Accessories   \n",
       "\n",
       "                                               title  average_rating  \\\n",
       "0             FS-1051 FATSHARK TELEPORTER V3 HEADSET             3.5   \n",
       "1                      Ce-H22B12-S1 4Kx2K Hdmi 4Port             5.0   \n",
       "2  Digi-Tatoo Decal Skin Compatible With MacBook ...             4.5   \n",
       "3  NotoCity Compatible with Vivoactive 4 band 22m...             4.5   \n",
       "4             Motorola Droid X Essentials Combo Pack             3.8   \n",
       "\n",
       "   rating_number                                           features  \\\n",
       "0              6                                                 []   \n",
       "1              1             [UPC: 662774021904, Weight: 0.600 lbs]   \n",
       "2            246  [WARNING: Please IDENTIFY MODEL NUMBER on the ...   \n",
       "3            233  [☛NotoCity 22mm band is designed for Vivoactiv...   \n",
       "4             64  [New Droid X Essentials Combo Pack, Exclusive ...   \n",
       "\n",
       "                                         description  price  \\\n",
       "0  [Teleporter V3 The “Teleporter V3” kit sets a ...   None   \n",
       "1                               [HDMI In - HDMI Out]   None   \n",
       "2                                                 []  19.99   \n",
       "3                                                 []   9.99   \n",
       "4  [all Genuine High Quality Motorola Made Access...  14.99   \n",
       "\n",
       "                                              images  \\\n",
       "0  {'hi_res': [None], 'large': ['https://m.media-...   \n",
       "1  {'hi_res': ['https://m.media-amazon.com/images...   \n",
       "2  {'hi_res': ['https://m.media-amazon.com/images...   \n",
       "3  {'hi_res': ['https://m.media-amazon.com/images...   \n",
       "4  {'hi_res': [None, None, None, None, None], 'la...   \n",
       "\n",
       "                                              videos       store  \\\n",
       "0            {'title': [], 'url': [], 'user_id': []}   Fat Shark   \n",
       "1            {'title': [], 'url': [], 'user_id': []}        SIIG   \n",
       "2  {'title': ['AL 2Sides Video', 'MacBook Protect...  Digi-Tatoo   \n",
       "3            {'title': [], 'url': [], 'user_id': []}    NotoCity   \n",
       "4            {'title': [], 'url': [], 'user_id': []}     Verizon   \n",
       "\n",
       "                                          categories  \\\n",
       "0   [Electronics, Television & Video, Video Glasses]   \n",
       "1  [Electronics, Television & Video, Accessories,...   \n",
       "2  [Electronics, Computers & Accessories, Laptop ...   \n",
       "3  [Electronics, Wearable Technology, Clips, Arm ...   \n",
       "4  [Electronics, Computers & Accessories, Compute...   \n",
       "\n",
       "                                             details parent_asin  \\\n",
       "0  {\"Date First Available\": \"August 2, 2014\", \"Ma...  B00MCW7G9M   \n",
       "1  {\"Product Dimensions\": \"0.83 x 4.17 x 2.05 inc...  B00YT6XQSE   \n",
       "2  {\"Brand\": \"Digi-Tatoo\", \"Color\": \"Fresh Marble...  B07SM135LS   \n",
       "3  {\"Date First Available\": \"May 29, 2020\", \"Manu...  B089CNGZCW   \n",
       "4  {\"Product Dimensions\": \"11.6 x 6.9 x 3.1 inche...  B004E2Z88O   \n",
       "\n",
       "  bought_together subtitle author  \n",
       "0            None     None   None  \n",
       "1            None     None   None  \n",
       "2            None     None   None  \n",
       "3            None     None   None  \n",
       "4            None     None   None  "
      ],
      "text/html": [
       "<div>\n",
       "<style scoped>\n",
       "    .dataframe tbody tr th:only-of-type {\n",
       "        vertical-align: middle;\n",
       "    }\n",
       "\n",
       "    .dataframe tbody tr th {\n",
       "        vertical-align: top;\n",
       "    }\n",
       "\n",
       "    .dataframe thead th {\n",
       "        text-align: right;\n",
       "    }\n",
       "</style>\n",
       "<table border=\"1\" class=\"dataframe\">\n",
       "  <thead>\n",
       "    <tr style=\"text-align: right;\">\n",
       "      <th></th>\n",
       "      <th>main_category</th>\n",
       "      <th>title</th>\n",
       "      <th>average_rating</th>\n",
       "      <th>rating_number</th>\n",
       "      <th>features</th>\n",
       "      <th>description</th>\n",
       "      <th>price</th>\n",
       "      <th>images</th>\n",
       "      <th>videos</th>\n",
       "      <th>store</th>\n",
       "      <th>categories</th>\n",
       "      <th>details</th>\n",
       "      <th>parent_asin</th>\n",
       "      <th>bought_together</th>\n",
       "      <th>subtitle</th>\n",
       "      <th>author</th>\n",
       "    </tr>\n",
       "  </thead>\n",
       "  <tbody>\n",
       "    <tr>\n",
       "      <th>0</th>\n",
       "      <td>All Electronics</td>\n",
       "      <td>FS-1051 FATSHARK TELEPORTER V3 HEADSET</td>\n",
       "      <td>3.5</td>\n",
       "      <td>6</td>\n",
       "      <td>[]</td>\n",
       "      <td>[Teleporter V3 The “Teleporter V3” kit sets a ...</td>\n",
       "      <td>None</td>\n",
       "      <td>{'hi_res': [None], 'large': ['https://m.media-...</td>\n",
       "      <td>{'title': [], 'url': [], 'user_id': []}</td>\n",
       "      <td>Fat Shark</td>\n",
       "      <td>[Electronics, Television &amp; Video, Video Glasses]</td>\n",
       "      <td>{\"Date First Available\": \"August 2, 2014\", \"Ma...</td>\n",
       "      <td>B00MCW7G9M</td>\n",
       "      <td>None</td>\n",
       "      <td>None</td>\n",
       "      <td>None</td>\n",
       "    </tr>\n",
       "    <tr>\n",
       "      <th>1</th>\n",
       "      <td>All Electronics</td>\n",
       "      <td>Ce-H22B12-S1 4Kx2K Hdmi 4Port</td>\n",
       "      <td>5.0</td>\n",
       "      <td>1</td>\n",
       "      <td>[UPC: 662774021904, Weight: 0.600 lbs]</td>\n",
       "      <td>[HDMI In - HDMI Out]</td>\n",
       "      <td>None</td>\n",
       "      <td>{'hi_res': ['https://m.media-amazon.com/images...</td>\n",
       "      <td>{'title': [], 'url': [], 'user_id': []}</td>\n",
       "      <td>SIIG</td>\n",
       "      <td>[Electronics, Television &amp; Video, Accessories,...</td>\n",
       "      <td>{\"Product Dimensions\": \"0.83 x 4.17 x 2.05 inc...</td>\n",
       "      <td>B00YT6XQSE</td>\n",
       "      <td>None</td>\n",
       "      <td>None</td>\n",
       "      <td>None</td>\n",
       "    </tr>\n",
       "    <tr>\n",
       "      <th>2</th>\n",
       "      <td>Computers</td>\n",
       "      <td>Digi-Tatoo Decal Skin Compatible With MacBook ...</td>\n",
       "      <td>4.5</td>\n",
       "      <td>246</td>\n",
       "      <td>[WARNING: Please IDENTIFY MODEL NUMBER on the ...</td>\n",
       "      <td>[]</td>\n",
       "      <td>19.99</td>\n",
       "      <td>{'hi_res': ['https://m.media-amazon.com/images...</td>\n",
       "      <td>{'title': ['AL 2Sides Video', 'MacBook Protect...</td>\n",
       "      <td>Digi-Tatoo</td>\n",
       "      <td>[Electronics, Computers &amp; Accessories, Laptop ...</td>\n",
       "      <td>{\"Brand\": \"Digi-Tatoo\", \"Color\": \"Fresh Marble...</td>\n",
       "      <td>B07SM135LS</td>\n",
       "      <td>None</td>\n",
       "      <td>None</td>\n",
       "      <td>None</td>\n",
       "    </tr>\n",
       "    <tr>\n",
       "      <th>3</th>\n",
       "      <td>AMAZON FASHION</td>\n",
       "      <td>NotoCity Compatible with Vivoactive 4 band 22m...</td>\n",
       "      <td>4.5</td>\n",
       "      <td>233</td>\n",
       "      <td>[☛NotoCity 22mm band is designed for Vivoactiv...</td>\n",
       "      <td>[]</td>\n",
       "      <td>9.99</td>\n",
       "      <td>{'hi_res': ['https://m.media-amazon.com/images...</td>\n",
       "      <td>{'title': [], 'url': [], 'user_id': []}</td>\n",
       "      <td>NotoCity</td>\n",
       "      <td>[Electronics, Wearable Technology, Clips, Arm ...</td>\n",
       "      <td>{\"Date First Available\": \"May 29, 2020\", \"Manu...</td>\n",
       "      <td>B089CNGZCW</td>\n",
       "      <td>None</td>\n",
       "      <td>None</td>\n",
       "      <td>None</td>\n",
       "    </tr>\n",
       "    <tr>\n",
       "      <th>4</th>\n",
       "      <td>Cell Phones &amp; Accessories</td>\n",
       "      <td>Motorola Droid X Essentials Combo Pack</td>\n",
       "      <td>3.8</td>\n",
       "      <td>64</td>\n",
       "      <td>[New Droid X Essentials Combo Pack, Exclusive ...</td>\n",
       "      <td>[all Genuine High Quality Motorola Made Access...</td>\n",
       "      <td>14.99</td>\n",
       "      <td>{'hi_res': [None, None, None, None, None], 'la...</td>\n",
       "      <td>{'title': [], 'url': [], 'user_id': []}</td>\n",
       "      <td>Verizon</td>\n",
       "      <td>[Electronics, Computers &amp; Accessories, Compute...</td>\n",
       "      <td>{\"Product Dimensions\": \"11.6 x 6.9 x 3.1 inche...</td>\n",
       "      <td>B004E2Z88O</td>\n",
       "      <td>None</td>\n",
       "      <td>None</td>\n",
       "      <td>None</td>\n",
       "    </tr>\n",
       "  </tbody>\n",
       "</table>\n",
       "</div>"
      ]
     },
     "metadata": {},
     "output_type": "display_data"
    },
    {
     "name": "stdout",
     "output_type": "stream",
     "text": [
      "\n",
      "Missing values in the first 1000 products:\n"
     ]
    },
    {
     "data": {
      "text/plain": [
       "main_category        11\n",
       "title                 0\n",
       "average_rating        0\n",
       "rating_number         0\n",
       "features              0\n",
       "description           0\n",
       "price                 0\n",
       "images                0\n",
       "videos                0\n",
       "store                 5\n",
       "categories            0\n",
       "details               0\n",
       "parent_asin           0\n",
       "bought_together    1000\n",
       "subtitle            999\n",
       "author             1000\n",
       "dtype: int64"
      ]
     },
     "metadata": {},
     "output_type": "display_data"
    }
   ],
   "execution_count": 2
  },
  {
   "metadata": {},
   "cell_type": "code",
   "outputs": [],
   "execution_count": null,
   "source": "",
   "id": "94d62dd509ce8481"
  }
 ],
 "metadata": {
  "kernelspec": {
   "display_name": "Python (e-comm chatbot)",
   "language": "python",
   "name": "ecomm-chatbot-venv"
  },
  "language_info": {
   "codemirror_mode": {
    "name": "ipython",
    "version": 3
   },
   "file_extension": ".py",
   "mimetype": "text/x-python",
   "name": "python",
   "nbconvert_exporter": "python",
   "pygments_lexer": "ipython3",
   "version": "3.11.9"
  }
 },
 "nbformat": 4,
 "nbformat_minor": 5
}
